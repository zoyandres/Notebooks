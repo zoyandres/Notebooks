{
 "cells": [
  {
   "cell_type": "markdown",
   "metadata": {},
   "source": [
    "# Repaso del lenguaje de programación Python\n",
    "\n",
    "Diego Fernando Marin"
   ]
  },
  {
   "cell_type": "markdown",
   "metadata": {},
   "source": [
    "# Comentarios\n",
    "El código bien escrito es auto-explicativo, pero siempre ha espacio para agregar comentarios que faciliten la labor de quien debe modificarlo en el futuro (incluyendo al mismo autor). En Python los comentarios se crean con del carácter _sharp_ `#`. \n",
    "\n",
    "Un buen comentario, debe:\n",
    "- ser una oración completa, aunque breve.\n",
    "- ser un reflejo de pensamiento, así después cuando vuelvas a leer tu código sabrás que pensabas al momento de escribirlo.\n",
    "- explicar tu pensamiento, así otros podrán entender que enfoque utilizaste al escribir tu código.\n",
    "- explicar partes difíciles de tu código, en detalle.\n",
    "- explicar porque decidiste escribir el código de esta forma, si hay otras maneras de hacerlo.\n",
    "\n",
    "Los comentarios no son para:\n",
    "- Decir cosas que son obvias → ```total = 100 # el total es 100```\n",
    "- DRY, no WET → Don't Repeat Yourself, no Wasted Everyone's Time\n",
    "- Resolver problemas del código, no hay suficientes comentarios que pueda explicar código mal escrito\n",
    "- Pasar la responsabilidad a otro → ```# Esto no funciona, @jperez lo daño, que él lo arregle!```\n",
    "\n",
    "Escribir buenos comentarios es una señal indiscutible de los buenos programadores. "
   ]
  },
  {
   "cell_type": "code",
   "execution_count": 5,
   "metadata": {},
   "outputs": [
    {
     "name": "stdout",
     "output_type": "stream",
     "text": [
      "No\n"
     ]
    }
   ],
   "source": [
    "# Pruebe ajuster el siguiente código para que sea más entendible,\n",
    "# por ejemplo, utilizando comentarios significativos\n",
    "\n",
    "# Diccionario de las familias que viven en cada ciudad\n",
    "dicc1 = {\n",
    "    \"Cali\": [\"Perez\", \"Lopez\", \"Velez\"],\n",
    "    \"Palmira\": [\"Bonilla\", \"Botero\"], \n",
    "    \"Yumbo\": [],\n",
    "    \"Jamundi\": [\"Alvarez\"]\n",
    "}\n",
    "\n",
    "# En que ciudades no hay familias?\n",
    "def a(arg1):\n",
    "    # recorre cada ciudad\n",
    "    for i in arg1:\n",
    "        # si no hay familias en la ciudad\n",
    "        if not arg1[i]:\n",
    "            # muestra un mensaje indicando que no hay familias\n",
    "            print(\"No\")\n",
    "\n",
    "# Main\n",
    "a(dicc1)"
   ]
  },
  {
   "cell_type": "markdown",
   "metadata": {},
   "source": [
    "# Nombres de las Variables\n",
    "Los nombres de las variables:\n",
    "- solo pueden contener letras, números y el carácter de subrayado `_`.\n",
    "- pueden iniciar solo con una letra, o un carácter de subrayado, no puede iniciar con número.\n",
    "- no pueden contener espacios.\n",
    "- no puede ser una palabra reservada de Python.\n",
    "- deben ser descriptivos, sin ser muy largos.\n",
    "\n",
    "Algunos ejemplos:\n",
    "```python\n",
    "precio_unitario = 34.5\n",
    "subTotal = 83474\n",
    "Nombre_Real = \"San Cipriano\"\n",
    "```"
   ]
  },
  {
   "cell_type": "code",
   "execution_count": null,
   "metadata": {},
   "outputs": [],
   "source": [
    "# Pruebe crear variables con nombres válidos\n"
   ]
  },
  {
   "cell_type": "markdown",
   "metadata": {},
   "source": [
    "# Cadenas\n",
    "Las cadenas son secuencias de carácteres, pueden definirse dentro de comillas simples `'` o comillas dobles `\"`.\n",
    "```python\n",
    "descripcion = \"Esta es una cadena entre comillas dobles\"\n",
    "otra = 'Esta es otra cadena entre comillas simples'\n",
    "```\n",
    "Eso nos permite usar las comillas dentro de una cadena.\n",
    "```python\n",
    "simples = \"Esta es una cadena contiene 'comillas simples'\"\n",
    "dobles = 'Mientras esta cadena contiene \"comillas simples\"'\n",
    "```\n",
    "Para ver los métodos disponibles en cualquier objeto usamos `dir()`, en este caso una cadena:\n",
    "```python\n",
    "dir(str)\n",
    "```"
   ]
  },
  {
   "cell_type": "code",
   "execution_count": null,
   "metadata": {},
   "outputs": [],
   "source": [
    "# Pruebe crear cadenas, combinando comillas simples y dobles\n"
   ]
  },
  {
   "cell_type": "code",
   "execution_count": null,
   "metadata": {},
   "outputs": [],
   "source": [
    "# Pruebe ver el listado de métodos de una cadena\n"
   ]
  },
  {
   "cell_type": "code",
   "execution_count": null,
   "metadata": {},
   "outputs": [],
   "source": [
    "# Pruebe algunos de esos métodos, sobre las cadenas que creaste previamente\n"
   ]
  },
  {
   "cell_type": "markdown",
   "metadata": {},
   "source": [
    "# Enteros\n",
    "\n",
    "Las operaciones básicas con números enteros son suma `+`, resta`-`, multiplicación `*`, división `/` y exponenciación `**`."
   ]
  },
  {
   "cell_type": "code",
   "execution_count": null,
   "metadata": {},
   "outputs": [],
   "source": [
    "# Pruebe crear algunas variables enteras y realice operaciones con ellas\n"
   ]
  },
  {
   "cell_type": "markdown",
   "metadata": {},
   "source": [
    "# Números de punto flotante\n",
    "\n",
    "Cualquier operación numérica que incluye valores con decimales, dará como resultado un número de punto flotante."
   ]
  },
  {
   "cell_type": "code",
   "execution_count": null,
   "metadata": {},
   "outputs": [],
   "source": [
    "# Pruebe crear algunas variables con números de punto flotante y realice operaciones con ellas\n"
   ]
  },
  {
   "cell_type": "markdown",
   "metadata": {},
   "source": [
    "# Leyendo valores\n",
    "\n",
    "En Python es posible leer valores del usuario usando `input()`:\n",
    "\n",
    "```python\n",
    "nombre = input()  # sin ningún mensaje\n",
    "nombre = input(\"Digite su nombre : \")\n",
    "cantidad = int(input(\"Cantidad? \"))\n",
    "precio = float(input(\"Precio? \"))\n",
    "\n",
    "```"
   ]
  },
  {
   "cell_type": "code",
   "execution_count": null,
   "metadata": {},
   "outputs": [],
   "source": [
    "# Pruebe leer algunos datos del usuario, como el nombre completo, la edad y la fruta favorita\n"
   ]
  },
  {
   "cell_type": "markdown",
   "metadata": {},
   "source": [
    "# Escribiendo Mensajes\n",
    "\n",
    "En Python hay tres formas para escribir mensajes con datos variables:\n",
    "\n",
    "```python\n",
    "# Algunas variables para los ejemplos:\n",
    "nombre = 'Paola'\n",
    "planeta = 'Marte'\n",
    "producto = 'Pepsi'\n",
    "precio = 2499.9999\n",
    "cod_ciudad = 76001\n",
    "nom_ciudad = 'Cali'\n",
    "cod_depto = 76\n",
    "nom_depto = 'Valle'\n",
    "```\n",
    "\n",
    "## Usando el operador `%`\n",
    "```python\n",
    "print('Hola, %s saludos desde %s' % (nombre, planeta))\n",
    "print(\"El precio de una %s es %.2f\" % (producto, precio))\n",
    "print('El rango es [%+d,%+d]' % (-34, 64))\n",
    "print('|%-10s|%-10s|%10d|' % (nom_ciudad, nom_depto, cod_ciudad))\n",
    "```\n",
    "\n",
    "## Usando el método `format`\n",
    "```python\n",
    "print('Hola, {} saludos desde {}'.format(nombre, planeta))\n",
    "print(\"El precio de una {} es {:.2f}\".format(producto, precio))\n",
    "print('El rango es [{:+d},{:+d}]'.format(-34, 64))\n",
    "print('|{:<10s}|{:<10s}|{:10d}|'.format(nom_ciudad, nom_depto, cod_ciudad))\n",
    "```\n",
    "\n",
    "## Usando _F-Strings_\n",
    "```python\n",
    "print(f'Hola, {nombre} saludos desde {planeta}')\n",
    "print(f\"El precio de una {producto} es {precio:.2f}\")\n",
    "print(f'El rango es [{-34:+d},{64:+d}]')\n",
    "print(f'|{nom_ciudad:<10s}|{nom_depto:<10s}|{cod_ciudad:10d}|')\n",
    "```\n"
   ]
  },
  {
   "cell_type": "code",
   "execution_count": null,
   "metadata": {},
   "outputs": [],
   "source": [
    "# Cree variables para almacenar sus nombres y sus apellidos (por separado),\n",
    "# su fecha y ciudad de nacimiento, el programa y semestre que cursa\n",
    "\n",
    "# Pruebe escribir el siguiente mensaje (con sus variables):\n",
    "# Hola, soy Juan Perez, vivo en Cali y nací el 1-ene-2000, ahora estudio Derecho y estoy en 3 semestre.\n",
    "\n",
    "# Muestre el mensaje usando el operador %\n",
    "\n",
    "# Muestre el mensaje usando el método format\n",
    "\n",
    "# Muestre el mensaje usando F-strings\n"
   ]
  },
  {
   "cell_type": "markdown",
   "metadata": {},
   "source": [
    "# Condicionales\n",
    "\n",
    "Una condicional es una estructura de control que cambia la secuencia de ejecución del programa, según el resultado de una expresión lógica (cuyo valor solo puede ser verdadero `True` o falso `False`)\n",
    "\n",
    "La forma más básica de condicional, tiene un bloque que solo se ejecuta si el resultado es `True`:\n",
    "```python\n",
    "# si el valor es menor a 50 escriba el mensaje\n",
    "if val < 50:\n",
    "    print(\"está dentro del rango\")\n",
    "```\n",
    "\n",
    "La condicional también puede tener un bloque que se ejecuta cuando el resultado es `False`:\n",
    "```python\n",
    "# si el valor es menor a 50 escriba el mensaje, sino escriba otro mensaje\n",
    "if val < 50:\n",
    "    print(\"está dentro del rango\")\n",
    "else:\n",
    "    print(\"no está en el rango\")\n",
    "```"
   ]
  },
  {
   "cell_type": "code",
   "execution_count": null,
   "metadata": {},
   "outputs": [],
   "source": [
    "# Pruebe pedir el nombre y la edad al usuario, y muestre un mensaje indicando si es menor o mayor de edad\n"
   ]
  },
  {
   "cell_type": "code",
   "execution_count": null,
   "metadata": {},
   "outputs": [],
   "source": [
    "# Pruebe preguntar el precio de un producto\n",
    "\n",
    "# pregunte si tiene IVA\n",
    "\n",
    "# si tiene IVA? pregunte el porcentaje y calcule el valor total\n",
    "\n",
    "# muestre el valor total a pagar\n"
   ]
  },
  {
   "cell_type": "markdown",
   "metadata": {},
   "source": [
    "# Ciclos\n",
    "\n",
    "## Cuando es una cantidad conocida de repeticiones:\n",
    "\n",
    "Un ciclo `for` es útil, cuando con anticipación conocemos la cantidad de veces que debe repetirse el ciclo. Bien sea porque el valor es fijo, o porque se puede calcular antes del ciclo.\n",
    "```python\n",
    "for indice in range(0, 10):\n",
    "    print(indice)\n",
    "```\n",
    "\n",
    "## Cuando es una cantidad desconocida de repeticiones:\n",
    "\n",
    "Un ciclo `while` es útil, cuando no sabemos cuantas veces debe repetirse el ciclo, pero sabemos que condición se debe cumplir para parar.\n",
    "\n",
    "```python\n",
    "continuar = True\n",
    "while continuar:\n",
    "    resp = input('Desea continuar? ')\n",
    "    if resp != 's':\n",
    "        continuar = False\n",
    "```\n",
    "\n",
    "Aunque usando ```while``` también se puede implementar un ciclo donde conozco la cantidad de repeticiones:\n",
    "```python\n",
    "indice = 0\n",
    "while indice < 10:\n",
    "    print(indice)\n",
    "    indice += 1\n",
    "```"
   ]
  },
  {
   "cell_type": "code",
   "execution_count": null,
   "metadata": {},
   "outputs": [],
   "source": [
    "# Pruebe escribir un ciclo 'for' que muestre los números del 1 al 100, de 3 en 3:\n"
   ]
  },
  {
   "cell_type": "code",
   "execution_count": null,
   "metadata": {},
   "outputs": [],
   "source": [
    "# Pruebe escribir un ciclo 'while' que muestre los números del 150 al 350, de 7 en 7:\n"
   ]
  },
  {
   "cell_type": "markdown",
   "metadata": {},
   "source": [
    "# Listas\n",
    "\n",
    "Las listas son colecciones de elementos almacenados en una misma variables. No hay restricciones sobre el tipo de  elementos que se pueden guardar en una lista.\n",
    "```python\n",
    "# Listas vacías\n",
    "frutas = []\n",
    "mascotas = list()\n",
    "# Listas con datos\n",
    "nombres = ['Harold', 'Luisa', 'Carlos', 'Ernesto', 'Teresa', 'Ximena', 'Karen']\n",
    "# Listas con datos de diferentes tipos\n",
    "bolsillo = [50, True, 'celular', 10, 5, 5, 'llaves']\n",
    "# Una lista puede contener también otras listas\n",
    "config = ['#ff23bc', [10, 20, 30], True, ['', '//', '/*', '*/']]\n",
    "```\n",
    "\n",
    "Los elementos de una lista se pueden acceder de diferentes formas:\n",
    "```python\n",
    "nombres[0]    # primer elemento\n",
    "nombres[-1]   # último elemento\n",
    "nombres[:3]   # los 3 primeros elementos\n",
    "nombres[5:]   # desde el 6 elemento en adelante\n",
    "nombres[-3:]  # los 3 últimos elementos\n",
    "nombres[2:5]  # desde el 3er hasta el 5to elemento\n",
    "```\n",
    "\n",
    "Otras operaciones con las listas:\n",
    "```python\n",
    "nombres[3] = 'Sara'      # cambiar un elemento\n",
    "nombres.index('Sara')    # buscar la posición de un elemento\n",
    "'Sara' in nombres        # saber si el elemento está en la lista\n",
    "nombres.append('Pedro')  # adicionar un elemento a la lista (al final)\n",
    "nombres.insert(3, 'Maria')  # insertar un elemento en esa posición (desplaza los demás)\n",
    "nombres.sort()           # ordenar una lista\n",
    "len(nombres)             # obtener el tamaño de una lista (cantidad de elementos)\n",
    "```\n",
    "\n",
    "Nota: Aunque no son listas, los elementos de una Cadena se puede acceder de la misma forma que una lista."
   ]
  },
  {
   "cell_type": "markdown",
   "metadata": {},
   "source": [
    "## Recorrido de una lista\n",
    "\n",
    "Una forma de recorrido de una lista corresponde al estilo que utilizaría un programador con experiencia en otros lenguajes, y recien comienza con Python:\n",
    "\n",
    "```python\n",
    "frutas = ['Pera', 'Manzana', 'Naranja', 'Papaya', 'Piña', 'Banano', 'Maracuya', 'Uva', 'Melon']\n",
    "for idx in range(0, len(frutas)):\n",
    "    print(frutas[idx])\n",
    "```\n",
    "\n",
    "Por el contrario, este tipo de recorrido sigue el estilo Pythonista:\n",
    "```python\n",
    "for fruta in frutas:\n",
    "    print(fruta)\n",
    "```\n",
    "\n",
    "Si realmente es necesario el indice, también puede hacerse siguiendo el estilo Pythonista:\n",
    "```python\n",
    "for idx, fruta in enumerate(frutas):\n",
    "    print(f\"{idx}: {fruta}\")\n",
    "```"
   ]
  },
  {
   "cell_type": "code",
   "execution_count": null,
   "metadata": {},
   "outputs": [],
   "source": [
    "# Pruebe crear una lista con 15 elementos, mezclando números, cadenas y booleanos\n"
   ]
  },
  {
   "cell_type": "code",
   "execution_count": null,
   "metadata": {},
   "outputs": [],
   "source": [
    "# Pruebe el acceso a diferentes elementos de la lista anterior\n",
    "\n",
    "# Primer elemento\n",
    "\n",
    "# Último elemento\n",
    "\n",
    "# El 4to\n",
    "\n",
    "# El 3ro de atrás hacia adelante\n",
    "\n",
    "# Los 3 primeros\n",
    "\n",
    "# Los 3 últimos\n",
    "\n",
    "# Del 4 al 7 elemento\n",
    "\n",
    "# Los elementos en posición par\n",
    "\n",
    "# La lista en orden inverso\n"
   ]
  },
  {
   "cell_type": "code",
   "execution_count": null,
   "metadata": {},
   "outputs": [],
   "source": [
    "# Pruebe recorrer la lista usando un while\n"
   ]
  },
  {
   "cell_type": "code",
   "execution_count": null,
   "metadata": {},
   "outputs": [],
   "source": [
    "# Pruebe recorrer la lista usando el estilo pythonista\n"
   ]
  },
  {
   "cell_type": "code",
   "execution_count": null,
   "metadata": {},
   "outputs": [],
   "source": [
    "# Pruebe recorrer la lista usando un indice, pero con estilo pythonista\n"
   ]
  },
  {
   "cell_type": "code",
   "execution_count": null,
   "metadata": {},
   "outputs": [],
   "source": [
    "# Pruebe recorrer la lista de frutas, y mostrar solo aquellas que comiencen por la letra 'M':\n"
   ]
  },
  {
   "cell_type": "code",
   "execution_count": 11,
   "metadata": {},
   "outputs": [
    {
     "name": "stdout",
     "output_type": "stream",
     "text": [
      "[4, 6, 8, 10, 12]\n"
     ]
    }
   ],
   "source": [
    "# Pruebe recorrer la lista ciudades, creando otra lista con la longitud de cada nombre\n",
    "ciudades = ['Cali', 'Bogota', 'Medellin', 'Valledupar', 'Barranquilla']\n",
    "# Crear la lista longitud vacia\n",
    "\n",
    "# Recorrer la lista ciudades\n",
    "\n",
    "    # Adicionar la longitud de la ciudad a la lista\n",
    "\n",
    "# Mostrar el resultado\n",
    "print(longitud)"
   ]
  },
  {
   "cell_type": "code",
   "execution_count": 3,
   "metadata": {},
   "outputs": [
    {
     "name": "stdout",
     "output_type": "stream",
     "text": [
      "[4, 8, 6, 12]\n"
     ]
    }
   ],
   "source": [
    "# Cree la misma lista longitud usando List-Comprehension\n",
    "\n",
    "# Mostrar el resultado\n",
    "print(longitud)"
   ]
  },
  {
   "cell_type": "code",
   "execution_count": 5,
   "metadata": {},
   "outputs": [
    {
     "data": {
      "text/plain": [
       "[[0, 3, 5], [1, 4, 6], [2, 5, 7], [3, 6, 8], [4, 7, 9]]"
      ]
     },
     "execution_count": 5,
     "metadata": {},
     "output_type": "execute_result"
    }
   ],
   "source": [
    "# Ejemplo de un List-Comprehension anidado\n",
    "suma = [ [x, x + 3, x + 5] for x in range(0, 5) ]\n",
    "suma"
   ]
  },
  {
   "cell_type": "code",
   "execution_count": 12,
   "metadata": {},
   "outputs": [
    {
     "data": {
      "text/plain": [
       "{'a1': 1,\n",
       " 'a2': 2,\n",
       " 'a3': 3,\n",
       " 'a4': 4,\n",
       " 'a5': 5,\n",
       " 'b1': 1,\n",
       " 'b2': 2,\n",
       " 'b3': 3,\n",
       " 'b4': 4,\n",
       " 'b5': 5,\n",
       " 'c1': 1,\n",
       " 'c2': 2,\n",
       " 'c3': 3,\n",
       " 'c4': 4,\n",
       " 'c5': 5}"
      ]
     },
     "execution_count": 12,
     "metadata": {},
     "output_type": "execute_result"
    }
   ],
   "source": [
    "# El List-Comprehension también funciona con diccionarios -> Dict-Comprehension\n",
    "l = { x+str(y): y for x in ['a', 'b', 'c'] for y in range(1, 6) }\n",
    "l"
   ]
  },
  {
   "cell_type": "markdown",
   "metadata": {},
   "source": [
    "# Tuplas\n",
    "\n",
    "Las Tuplas pueden verse como Listas que nunca cambian (inmutables). Una ve definida la tupla, ni la cantidad de elementos, ni sus valores pueden ser modificados.\n",
    "\n",
    "```python\n",
    "# Tupla vacía\n",
    "vacia = ()\n",
    "# Tuplas con datos\n",
    "producto = ('Tennis', 'T-Shirt', 'S', True, 39999.00)\n",
    "colores = ('#ff0000', '#00ff00', '#0000ff', '#000000', '#ffffff')\n",
    "```\n",
    "\n",
    "Los elementos dela tupla se acceden igual que los de una lista:\n",
    "```python\n",
    "colores[0]    # primer elemento\n",
    "colores[-1]   # último elemento\n",
    "```\n",
    "\n",
    "Otras operaciones con las tuplas:\n",
    "```python\n",
    "len(colores)  # cantidad de elementos\n",
    "```"
   ]
  },
  {
   "cell_type": "code",
   "execution_count": null,
   "metadata": {},
   "outputs": [],
   "source": [
    "# Pruebe crear una tupla con los datos de una persona\n"
   ]
  },
  {
   "cell_type": "code",
   "execution_count": null,
   "metadata": {},
   "outputs": [],
   "source": [
    "# Pruebe el acceso a diferentes elementos de la tupla persona\n"
   ]
  },
  {
   "cell_type": "markdown",
   "metadata": {},
   "source": [
    "# Diccionarios\n",
    "\n",
    "Un Diccionario es una forma de almacenar información llave-valor. Cada llave es única (inmutable) y contiene un valor de cualquier tipo.\n",
    "\n",
    "```python\n",
    "# Diccionarios vacíos\n",
    "verbos = {}\n",
    "palabras = dict()\n",
    "# Diccionario con datos\n",
    "colores = {'rojo': '#ff0000', \n",
    "           'verde': '#00ff00', \n",
    "           'azul': '#0000ff', \n",
    "           'negro': '#ffffff', \n",
    "           'blanco': '#000000'}\n",
    "# Diccionario con datos de diferentes tipos\n",
    "config = {'usuario': 'sysadmin', \n",
    "          'password': {'type': 'MD5', 'hash': '6b59c3dc612a911322535551872a4d8c', 'activo': True},\n",
    "          'opciones': [1001, 1002, 1005, 1101, 1105, 1109, 1201, 1202, 1023], \n",
    "          'tema': 'default'}\n",
    "\n",
    "```\n",
    "\n",
    "Los elementos dela tupla se acceden igual que los de una lista:\n",
    "```python\n",
    "colores[0]      # primer elemento\n",
    "colores[-1]     # último elemento\n",
    "config['tema']  # devuelve 'default'\n",
    "config['password']['activo']  # devuelve True\n",
    "config['opciones'][:3]        # devuelve la lista [1001, 1002, 1005]\n",
    "```\n",
    "\n",
    "Otras operaciones con las tuplas:\n",
    "```python\n",
    "len(colores)  # cantidad de elementos\n",
    "```"
   ]
  },
  {
   "cell_type": "markdown",
   "metadata": {},
   "source": [
    "## Recorrido de un diccionario\n",
    "\n",
    "Hay varias formas de recorrer un diccionario, dependiendo de que vamos a utilizar como indice para dicho recorrido, `.keys()`, `.values()` o `.items()`.\n",
    "\n",
    "El primer tipo de recorrido es por llaves:\n",
    "```python\n",
    "for llave in colores.keys():\n",
    "    print(f\"{llave}: {colores[llave]}\")\n",
    "```\n",
    "\n",
    "El segundo tipo de recorrido es por valores:\n",
    "```python\n",
    "for valor in colores.values():\n",
    "    print(f\"{valor}\")\n",
    "```\n",
    "\n",
    "El tercer tipo de recorrido es por (llave, valor):\n",
    "```python\n",
    "for llave, valor in colores.items():\n",
    "    print(f\"{llave}, {valor}\")\n",
    "```"
   ]
  },
  {
   "cell_type": "code",
   "execution_count": null,
   "metadata": {},
   "outputs": [],
   "source": [
    "# Pruebe recorrer el diccionario de ciudades, usando las tres formas presentadas\n",
    "ciudades = {\n",
    "    'bogotá': {\n",
    "        'población': 8848588, 'ubicación': (4.6482837, -74.247895, 2640), 'temperatura': 13.0, 'superficie': 1775\n",
    "    },\n",
    "    'cali': {\n",
    "        'población': 2980169, 'ubicación': (3.3950619, -76.5957049, 1018), 'temperatura': 24.0, 'superficie': 564\n",
    "    },\n",
    "    'medellin': {\n",
    "        'población': 3921797, 'ubicación': (6.2441988, -75.6512524, 1495), 'temperatura': 21.3, 'superficie': 382\n",
    "    },\n",
    "    'barranquilla': {\n",
    "        'población': 2199507, 'ubicación': (10.9838039, -74.8880584, 18), 'temperatura': 27.4,'superficie': 154\n",
    "    },\n",
    "    'bucaramanga': {\n",
    "        'población': 1160472, 'ubicación': (7.1192047, -73.1679977, 162), 'temperatura': 23.0, 'superficie': 959\n",
    "    },\n",
    "}\n",
    "\n",
    "# Recorrido por llave, para mostrar la ciudad y la población\n",
    "\n",
    "# Recorrido por valores, calcular el promedio total de temperaturas\n",
    "\n",
    "# Recorrido por llave-valor, para mostrar la ciudad y la altitud\n"
   ]
  },
  {
   "cell_type": "code",
   "execution_count": null,
   "metadata": {},
   "outputs": [],
   "source": []
  }
 ],
 "metadata": {
  "kernelspec": {
   "display_name": "Python 3",
   "language": "python",
   "name": "python3"
  },
  "language_info": {
   "codemirror_mode": {
    "name": "ipython",
    "version": 3
   },
   "file_extension": ".py",
   "mimetype": "text/x-python",
   "name": "python",
   "nbconvert_exporter": "python",
   "pygments_lexer": "ipython3",
   "version": "3.8.5"
  }
 },
 "nbformat": 4,
 "nbformat_minor": 2
}
