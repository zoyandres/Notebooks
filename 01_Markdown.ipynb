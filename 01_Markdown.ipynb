{
 "cells": [
  {
   "cell_type": "markdown",
   "id": "b0f4c93d",
   "metadata": {},
   "source": [
    "# Uso de Markdown"
   ]
  },
  {
   "cell_type": "markdown",
   "id": "9e9c1f7e",
   "metadata": {},
   "source": [
    "# Título 1\n",
    "\n",
    "Todos los titulos empiezan con signo ```#```\n",
    "\n",
    "## Titulo 2\n",
    "### Titulo 3\n",
    "#### Titulo 4\n",
    "##### Titulo 5\n",
    "###### Titulo 6\n",
    "\n",
    "\n"
   ]
  },
  {
   "cell_type": "markdown",
   "id": "469d5fa0",
   "metadata": {},
   "source": [
    "# Blockquote\n",
    "\n",
    "Los _Blockquotes_ se hacen con el signo ```>```\n",
    "\n",
    "> # titulo del bloque\n",
    "> Este es el párrafo del blockquote\n",
    ">\n",
    ">> Este es un blockquote anidado\n",
    ">> Tenemos más texto\n",
    ">\n",
    "> ## Segunda parte\n",
    "> Más texto"
   ]
  },
  {
   "cell_type": "markdown",
   "id": "b5d4580d",
   "metadata": {},
   "source": [
    "# Énfasis\n",
    "\n",
    "Se pueden poner **negrillas** con doble carácter ```**``` o un ```__```\n",
    "Se pueden poner *italicas* con un solo carácter  ```*``` o un ```_```\n",
    "Se hacer ~~tachado~~ utilizando doble virgulilla ```~~```\n"
   ]
  },
  {
   "cell_type": "markdown",
   "id": "790f567f",
   "metadata": {},
   "source": [
    "# Listas\n",
    "## Ordenadas\n",
    "\n",
    "1. Colores\n",
    "  1. Rojo\n",
    "  2. Azul\n",
    "  3. Verde\n",
    "2. Sabores\n",
    "  1. Salado\n",
    "  2. Dulce\n",
    " \n",
    "## No Ordenadas\n",
    "* Animales\n",
    "  - Perro\n",
    "  - Gato\n",
    "  - Ardilla\n",
    "* Frutas\n",
    "  - Citricos\n",
    "    + Limon\n",
    "    + Naranja\n",
    "    + Mandarina\n",
    "  - Manzana\n",
    "  - Pera"
   ]
  },
  {
   "cell_type": "markdown",
   "id": "2638a425",
   "metadata": {},
   "source": [
    "# Enlaces\n",
    "Un enlace siempre tiene la forma ```[nombre](url)\"tooltip\"```\n",
    "\n",
    "### Redes sociales\n",
    "* [Facebook](https://www.facebook.com/)\n",
    "* [Twitter](https://twitter.com/?lang=es)\n",
    "* [Instagram](https://www.instagram.com/?hl=es-la)\n",
    "\n"
   ]
  },
  {
   "cell_type": "markdown",
   "id": "229a8f10",
   "metadata": {},
   "source": [
    "# Imagenes\n",
    "\n",
    "Las imagenes tienen la forma ```![nombre](url)```\n",
    "![Angular](https://www.digital55.com/wp-content/uploads/2019/10/Renderizado_en_servidor_con_angular_universal.png)\n",
    "%%HTML\n",
    "<iframe src=\"https://www.youtube.com/embed/fXpMiweCC_o\" title=\"YouTube video player\" frameborder=\"0\" allow=\"accelerometer; autoplay; clipboard-write; encrypted-media; gyroscope; picture-in-picture\" allowfullscreen></iframe>"
   ]
  },
  {
   "cell_type": "markdown",
   "id": "e8a0c610",
   "metadata": {},
   "source": [
    "# Codigo\n",
    "\n",
    "Utilizar 4 espacios:\n",
    "    frutas = ['pera','manzana', 'piña']\n",
    "    for fruta in fruta:\n",
    "        print(fruta)\n",
    "\n",
    "En un bloque de código, los TAGs HTML no tiene efecto:\n",
    "    \n",
    "    <html>\n",
    "      <head>\n",
    "        <title> No pasa nada </title>\n",
    "      </head>\n",
    "          <body>\n",
    "          </body>\n",
    "    </html>\n",
    "    \n",
    "También se crea un bloque de código con tiple comilla invertida, y el indico el lenguage:\n",
    "    \n",
    "```python\n",
    "    frutas = ['pera','manzana', 'piña']\n",
    "    for fruta in fruta:\n",
    "        print(fruta)\n",
    "```\n",
    "```html\n",
    "    <html>\n",
    "      <head>\n",
    "        <title> No pasa nada </title>\n",
    "      </head>\n",
    "      <body>\n",
    "      </body>\n",
    "    </html>\n",
    "```"
   ]
  },
  {
   "cell_type": "markdown",
   "id": "eaa5f224",
   "metadata": {},
   "source": [
    "# Tabla\n",
    "\n",
    "|Cedula|Nombre|Ciudad|\n",
    "|------|------|------|\n",
    "|122121|Andres|Cali|\n",
    "|212322|Rodriga|Yumbo|\n",
    "|121221|Pedre|Bogota|\n"
   ]
  },
  {
   "cell_type": "markdown",
   "id": "f7912a8d",
   "metadata": {},
   "source": [
    "# Comandos"
   ]
  },
  {
   "cell_type": "code",
   "execution_count": 15,
   "id": "df69f7a5",
   "metadata": {},
   "outputs": [
    {
     "name": "stdout",
     "output_type": "stream",
     "text": [
      "total 36\r\n",
      "drwxrwxr-x  5 ubuntu ubuntu 4096 Jun 17 01:29 .\r\n",
      "drwxr-xr-x 11 ubuntu ubuntu 4096 Jun 16 23:31 ..\r\n",
      "drwxrwxr-x  8 ubuntu ubuntu 4096 Jun 17 00:05 .git\r\n",
      "-rw-rw-r--  1 ubuntu ubuntu   20 Jun 16 19:46 .gitignore\r\n",
      "drwxrwxr-x  2 ubuntu ubuntu 4096 Jun 16 19:43 .ipynb_checkpoints\r\n",
      "-rw-rw-r--  1 ubuntu ubuntu 5008 Jun 17 01:29 01_Markdown.ipynb\r\n",
      "drwxrwxr-x  2 ubuntu ubuntu 4096 Jun 16 01:55 Notebooks\r\n",
      "-rw-rw-r--  1 ubuntu ubuntu  146 Jun 16 01:49 readme.md\r\n"
     ]
    }
   ],
   "source": [
    "!ls -la"
   ]
  },
  {
   "cell_type": "code",
   "execution_count": 16,
   "id": "8db2d107",
   "metadata": {},
   "outputs": [
    {
     "name": "stdout",
     "output_type": "stream",
     "text": [
      "/home/ubuntu/Notebooks\r\n"
     ]
    }
   ],
   "source": [
    "!pwd"
   ]
  },
  {
   "cell_type": "code",
   "execution_count": 17,
   "id": "6c2105a4",
   "metadata": {},
   "outputs": [
    {
     "name": "stdout",
     "output_type": "stream",
     "text": [
      "Holiii\n"
     ]
    }
   ],
   "source": [
    "%run Hola.py"
   ]
  },
  {
   "cell_type": "code",
   "execution_count": null,
   "id": "cdd4a7f6",
   "metadata": {},
   "outputs": [],
   "source": []
  }
 ],
 "metadata": {
  "kernelspec": {
   "display_name": "Python 3",
   "language": "python",
   "name": "python3"
  },
  "language_info": {
   "codemirror_mode": {
    "name": "ipython",
    "version": 3
   },
   "file_extension": ".py",
   "mimetype": "text/x-python",
   "name": "python",
   "nbconvert_exporter": "python",
   "pygments_lexer": "ipython3",
   "version": "3.8.8"
  }
 },
 "nbformat": 4,
 "nbformat_minor": 5
}
